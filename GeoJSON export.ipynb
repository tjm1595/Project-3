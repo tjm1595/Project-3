{
 "cells": [
  {
   "cell_type": "code",
   "execution_count": 1,
   "id": "7dca23f5",
   "metadata": {},
   "outputs": [],
   "source": [
    "import sqlite3\n",
    "import json"
   ]
  },
  {
   "cell_type": "code",
   "execution_count": 2,
   "id": "e25eec47",
   "metadata": {},
   "outputs": [],
   "source": [
    "connection = sqlite3.connect(\"C:/Users/redye\\Downloads/FPA_FOD_20170508.sqlite\")"
   ]
  },
  {
   "cell_type": "code",
   "execution_count": 3,
   "id": "bedd2e76",
   "metadata": {},
   "outputs": [],
   "source": [
    "cursor = connection.cursor()"
   ]
  },
  {
   "cell_type": "code",
   "execution_count": 4,
   "id": "f21c05fa",
   "metadata": {},
   "outputs": [
    {
     "data": {
      "text/plain": [
       "<sqlite3.Cursor at 0x15fb02f50a0>"
      ]
     },
     "execution_count": 4,
     "metadata": {},
     "output_type": "execute_result"
    }
   ],
   "source": [
    "cursor.execute(\"SELECT FIRE_YEAR, DISCOVERY_DOY, DISCOVERY_TIME, CONT_DATE, CONT_DOY, CONT_TIME, FIRE_SIZE, LATITUDE, LONGITUDE, STAT_CAUSE_CODE, STAT_CAUSE_DESCR FROM Fires WHERE FIRE_SIZE_CLASS <> 'A' AND (STATE = 'CO' OR STATE = 'MT' OR STATE = 'WY')\")"
   ]
  },
  {
   "cell_type": "code",
   "execution_count": 5,
   "id": "66f8d35d",
   "metadata": {},
   "outputs": [],
   "source": [
    "rows = cursor.fetchall()"
   ]
  },
  {
   "cell_type": "raw",
   "id": "0ee92626",
   "metadata": {},
   "source": []
  },
  {
   "cell_type": "code",
   "execution_count": 6,
   "id": "75c09a35",
   "metadata": {},
   "outputs": [],
   "source": [
    "features = []"
   ]
  },
  {
   "cell_type": "code",
   "execution_count": 7,
   "id": "f70c47e8",
   "metadata": {},
   "outputs": [],
   "source": [
    "for row in rows:\n",
    "    \n",
    "    properties = {\n",
    "        'FIRE_YEAR': row[0],\n",
    "        'DISCOVERY_DOY': row[1],\n",
    "        'DISCOVERY_TIME': row[2],\n",
    "        'CONT_DATE': row[3],\n",
    "        'CONT_DOY': row[4],\n",
    "        'CONT_TIME': row[5],\n",
    "        'FIRE_SIZE': row[6],\n",
    "        'STAT_CAUSE_CODE': row[9],\n",
    "        'STAT_CAUSE_DESCR': row[10]\n",
    "    }"
   ]
  },
  {
   "cell_type": "code",
   "execution_count": 8,
   "id": "920348ff",
   "metadata": {},
   "outputs": [],
   "source": [
    "geometry = {\n",
    "        'type': 'Point',\n",
    "        'coordinates': [row[8], row[7]]  # Longitude, Latitude\n",
    "    }"
   ]
  },
  {
   "cell_type": "code",
   "execution_count": 9,
   "id": "c1e8e221",
   "metadata": {},
   "outputs": [],
   "source": [
    "feature = {\n",
    "        'type': 'Feature',\n",
    "        'properties': properties,\n",
    "        'geometry': geometry\n",
    "    }"
   ]
  },
  {
   "cell_type": "code",
   "execution_count": 10,
   "id": "740e9467",
   "metadata": {},
   "outputs": [],
   "source": [
    "features.append(feature)"
   ]
  },
  {
   "cell_type": "code",
   "execution_count": 11,
   "id": "10cd5c37",
   "metadata": {},
   "outputs": [],
   "source": [
    "geojson = {\n",
    "    'type': 'FeatureCollection',\n",
    "    'features': features\n",
    "}"
   ]
  },
  {
   "cell_type": "code",
   "execution_count": 12,
   "id": "7deeef0f",
   "metadata": {},
   "outputs": [],
   "source": [
    "json_data = json.dumps(geojson, indent=2)"
   ]
  },
  {
   "cell_type": "code",
   "execution_count": 13,
   "id": "bed40317",
   "metadata": {},
   "outputs": [],
   "source": [
    "with open('output.geojson', 'w') as file:\n",
    "    file.write(json_data)"
   ]
  },
  {
   "cell_type": "code",
   "execution_count": null,
   "id": "79ba8115",
   "metadata": {},
   "outputs": [],
   "source": []
  }
 ],
 "metadata": {
  "kernelspec": {
   "display_name": "Python 3 (ipykernel)",
   "language": "python",
   "name": "python3"
  },
  "language_info": {
   "codemirror_mode": {
    "name": "ipython",
    "version": 3
   },
   "file_extension": ".py",
   "mimetype": "text/x-python",
   "name": "python",
   "nbconvert_exporter": "python",
   "pygments_lexer": "ipython3",
   "version": "3.9.13"
  }
 },
 "nbformat": 4,
 "nbformat_minor": 5
}
